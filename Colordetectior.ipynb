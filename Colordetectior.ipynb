{
 "cells": [
  {
   "attachments": {},
   "cell_type": "markdown",
   "metadata": {},
   "source": [
    "### *Color Detector*\n",
    "#####  **~DMW Mini Project~**"
   ]
  },
  {
   "attachments": {},
   "cell_type": "markdown",
   "metadata": {},
   "source": [
    "*Problem Statement:*\n",
    "\n",
    "There are 16 million colors based on the different RGB color values and we can't remember all of them.\n",
    "If we want to identify the corol in an image or video then we can't do that on our own as we don't know each of them. \n",
    "So we need some tool which can help us to perform the same.\n",
    "In this project i am trying to find the exact color name which is clicked by mouse. "
   ]
  },
  {
   "cell_type": "code",
   "execution_count": 14,
   "metadata": {},
   "outputs": [],
   "source": [
    "import pandas as pd\n",
    "import cv2\n",
    "\n",
    "import numpy as np\n",
    "from sklearn.linear_model import LinearRegression\n",
    "from sklearn.preprocessing import LabelEncoder\n"
   ]
  },
  {
   "cell_type": "code",
   "execution_count": 8,
   "metadata": {},
   "outputs": [],
   "source": [
    "imageUrl = ''\n",
    "clicked = False\n",
    "redValue = 0\n",
    "greenValue = 0\n",
    "blueValue = 0\n",
    "xPosition = 0\n",
    "yPosition = 0"
   ]
  },
  {
   "cell_type": "code",
   "execution_count": 9,
   "metadata": {},
   "outputs": [],
   "source": [
    "colorNameDataFrame = pd.read_csv('D:\\SEM 6th\\DWM Lab\\HustlerBoy_a_tech_guy_coding_on_computer_anime_character_style__d694b893-17ed-4f3c-aaf5-9f7b54245afd.png')\n",
    "colorNameDataFrame.drop(colorNameDataFrame.iloc[:,5:8], inplace=True, axis=1)\n",
    "colorNameDataFrame.rename(columns={'Hex (24 bit)':'Hex', 'Red (8 bit)':'Red', 'Green (8 bit)':'Green', 'Blue (8 bit)':'Blue'}, inplace=True)\n",
    "image = cv2.imread(imageUrl)\n",
    "\n",
    "\n",
    "\n",
    "\n",
    "# Prepare training data for regression\n",
    "X_train = colorNameDataFrame[['Red', 'Green', 'Blue']]\n",
    "y_train = colorNameDataFrame['Name']\n",
    "\n",
    "# Encode color names to numeric labels\n",
    "label_encoder = LabelEncoder()\n",
    "y_train_encoded = label_encoder.fit_transform(y_train)\n",
    "\n",
    "# Train the regression model\n",
    "regression_model = LinearRegression()\n",
    "regression_model.fit(X_train, y_train_encoded)"
   ]
  },
  {
   "cell_type": "code",
   "execution_count": 10,
   "metadata": {},
   "outputs": [],
   "source": [
    "def getColorName(red, green, blue):\n",
    "    rgb_values = np.array([[red, green, blue]])\n",
    "    color_label = regression_model.predict(rgb_values)\n",
    "    color_name = label_encoder.inverse_transform(color_label)\n",
    "    return color_name[0]\n",
    "\n",
    "\n",
    "\n",
    "def getColorName(red,green,blue):\n",
    "    minimumValue = 10000\n",
    "    for i in range(len(colorNameDataFrame)):\n",
    "        rgbValue = abs(red- int(colorNameDataFrame.loc[i,\"Red\"])) + abs(green- int(colorNameDataFrame.loc[i,\"Green\"]))+ abs(blue- int(colorNameDataFrame.loc[i,\"Blue\"]))\n",
    "        if(rgbValue <= minimumValue):\n",
    "            minimumValue = rgbValue\n",
    "            colorName = colorNameDataFrame.loc[i,\"Name\"]\n",
    "    return colorName\n"
   ]
  },
  {
   "cell_type": "code",
   "execution_count": 12,
   "metadata": {},
   "outputs": [],
   "source": [
    "def draw_function(event, x,y, flags, param):\n",
    "    if event == cv2.EVENT_LBUTTONDBLCLK:\n",
    "        global blueValue, greenValue, redValue, xPosition, yPosition, clicked\n",
    "        clicked = True\n",
    "        xPosition = x\n",
    "        yPosition = y\n",
    "        blueValue, greenValue, redValue = image[yPosition, xPosition]\n",
    "        blueValue = int(blueValue)\n",
    "        greenValue = int(greenValue)\n",
    "        redValue = int(redValue)"
   ]
  },
  {
   "cell_type": "code",
   "execution_count": 16,
   "metadata": {},
   "outputs": [],
   "source": [
    "if __name__ == '__main__':\n",
    "    cv2.namedWindow('Color Name')\n",
    "    cv2.setMouseCallback('Color Name', draw_function)\n",
    "    \n",
    "    while (1):        \n",
    "        if (clicked):            \n",
    "            cv2.rectangle(image, (20, 20), (950, 60), (blueValue, greenValue, redValue), -1)\n",
    "            colorName = 'Selected color name is:-' + getColorName(redValue, greenValue, blueValue)\n",
    "            cv2.putText(image, colorName, (50, 50), 2, 0.75, (255, 255, 255), 1, cv2.FONT_ITALIC)\n",
    "            minimumValue = abs(redValue + greenValue + blueValue)\n",
    "            if (minimumValue >= 600):\n",
    "                cv2.putText(image, colorName, (50, 50), 2, 0.75, (0, 0, 0), 1, cv2.FONT_ITALIC)\n",
    "            clicked = False\n",
    "        cv2.imshow(\"Color Name\", image)\n",
    "        # Break the loop when user hits 'esc' key\n",
    "        if cv2.waitKey(20) & 0xFF == 27:\n",
    "            break\n",
    "    cv2.destroyAllWindows()"
   ]
  }
 ],
 "metadata": {
  "kernelspec": {
   "display_name": "Python 3",
   "language": "python",
   "name": "python3"
  },
  "language_info": {
   "codemirror_mode": {
    "name": "ipython",
    "version": 3
   },
   "file_extension": ".py",
   "mimetype": "text/x-python",
   "name": "python",
   "nbconvert_exporter": "python",
   "pygments_lexer": "ipython3",
   "version": "3.9.1"
  },
  "orig_nbformat": 4
 },
 "nbformat": 4,
 "nbformat_minor": 2
}
